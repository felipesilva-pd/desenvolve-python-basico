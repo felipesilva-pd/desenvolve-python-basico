{
 "cells": [
  {
   "cell_type": "markdown",
   "id": "cbdff5a5",
   "metadata": {},
   "source": [
    "# Módulo 5 - Funções\n",
    "\n",
    "## Aulas 5.2 - Funções Customizadas e 5.4 Funções ```lambda```"
   ]
  },
  {
   "cell_type": "markdown",
   "id": "28a3fee2",
   "metadata": {},
   "source": [
    "### Q1.\n",
    "\n",
    "- Sabendo que o código a seguir calcula o fatorial de n, escreva uma função chamada ```fatorial()``` que recebe um inteiro ```n``` como parâmetro e retorna o resultado do fatorial de ```n```. \n",
    "- No programa principal, peça ao usuário o valor de ```n```, chame a sua função e imprima o retorno.\n",
    "\n",
    "```python\n",
    "fat = 1\n",
    "for i in range(1, n+1):\n",
    "    fat *= i \n",
    "```"
   ]
  },
  {
   "cell_type": "code",
   "execution_count": 1,
   "id": "d126b3a5",
   "metadata": {},
   "outputs": [],
   "source": [
    "## Crie aqui a função fatorial()\n",
    "## lembre-se de executar a célula para que \n",
    "## a função passe a existir e possa ser chamada\n",
    "\n",
    "def fatorial(n):\n",
    "    fat = 1\n",
    "    for i in range(1, n+1):\n",
    "        fat *= i\n",
    "    return fat\n",
    "\n",
    "\n",
    "    \n",
    "    \n"
   ]
  },
  {
   "cell_type": "code",
   "execution_count": 2,
   "id": "6e4fe64e",
   "metadata": {},
   "outputs": [
    {
     "name": "stdin",
     "output_type": "stream",
     "text": [
      "Digite o valor de n:  3\n"
     ]
    },
    {
     "name": "stdout",
     "output_type": "stream",
     "text": [
      "O fatorial de 3 é 6\n"
     ]
    }
   ],
   "source": [
    "## Escreva aqui o programa principal e execute a célula\n",
    "n = int(input('Digite o valor de n: '))\n",
    "resultado = fatorial(n)\n",
    "print(f'O fatorial de {n} é {resultado}')"
   ]
  },
  {
   "cell_type": "markdown",
   "id": "c0a1f599",
   "metadata": {},
   "source": [
    "### Q2.\n",
    "\n",
    "- Escreva uma função em Python chamada ```soma_quadrados``` que recebe dois números como parâmetros e retorna a soma dos seus quadrados. \n",
    "- No programa principal solicite ao usuário que insira dois números e utilize a função para exibir a soma dos quadrados."
   ]
  },
  {
   "cell_type": "code",
   "execution_count": 20,
   "id": "6dbddaad",
   "metadata": {},
   "outputs": [],
   "source": [
    "## Crie aqui a função soma_quadrados()\n",
    "# Soma dos quadrados de dois números\n",
    "\n",
    "# Argumentos:\n",
    "# x: variável numérica\n",
    "# y: Variável numérica\n",
    "# Saída: soma dos quadrados das variáveis\n",
    "\n",
    "def soma_quadrados(x, y):\n",
    "  return x**2 + y**2\n"
   ]
  },
  {
   "cell_type": "code",
   "execution_count": 21,
   "id": "9175a7da",
   "metadata": {},
   "outputs": [
    {
     "name": "stdin",
     "output_type": "stream",
     "text": [
      "Digite o valor de x:  2\n",
      "Digite o valor de y:  3\n"
     ]
    },
    {
     "name": "stdout",
     "output_type": "stream",
     "text": [
      "A soma dos quadrados de 2 e 3 é 13\n"
     ]
    }
   ],
   "source": [
    "## Escreva aqui o programa principal e execute a célula\n",
    "x = int(input('Digite o valor de x: ')) # Solicita primeira variável\n",
    "y = int(input('Digite o valor de y: ')) # Solicita segunda variável\n",
    "resultado = soma_quadrados(x, y) # Execução da função\n",
    "print(f'A soma dos quadrados de {x} e {y} é {resultado}') # Saída com o resultado da função"
   ]
  },
  {
   "cell_type": "markdown",
   "id": "6ba34ce0",
   "metadata": {},
   "source": [
    "### Q3.\n",
    "\n",
    "- Crie uma função em Python chamada ```soma_digitos``` que recebe um número inteiro como parâmetro e retorna a soma dos seus dígitos. Por exemplo, para o número 123, a função deve retornar 6, $(1 + 2 + 3)$.\n",
    "    - O desafio aqui é separar os dígitos de um número inteiro usando operações aritméticas <br> <br>\n",
    "\n",
    "- No programa principal solicite ao usuário que insira um número e utilize a função ```soma_digitos``` para calcular e exibir a soma dos seus dígitos."
   ]
  },
  {
   "cell_type": "code",
   "execution_count": 10,
   "id": "34838ebf",
   "metadata": {},
   "outputs": [],
   "source": [
    "## Crie aqui a função soma_digitos()\n",
    "# Função soma dígitos, que recebe um número inteiro e soma seus dígitos a partir de uma lista\n",
    "\n",
    "# Argumentos:\n",
    "# Dígitos de um número inteiro\n",
    "# Separação e soma dos dígitos através de estruturas de repetição\n",
    "# Saída com a soma dos dígitos\n",
    "def soma_digitos(num_int):\n",
    "  digitos = []\n",
    "  soma = 0\n",
    "  while num_int > 0:\n",
    "    digito = num_int % 10\n",
    "    digitos.insert(0, digito)\n",
    "    num_int //= 10\n",
    "  for digito in digitos:\n",
    "    soma += digito\n",
    "  return soma"
   ]
  },
  {
   "cell_type": "code",
   "execution_count": 11,
   "id": "27c35b21",
   "metadata": {},
   "outputs": [
    {
     "name": "stdin",
     "output_type": "stream",
     "text": [
      "Digite um número inteiro:  1234\n"
     ]
    },
    {
     "name": "stdout",
     "output_type": "stream",
     "text": [
      "10\n"
     ]
    }
   ],
   "source": [
    "## Escreva aqui o programa principal e execute a célula\n",
    "num_int = int(input('Digite um número inteiro: ')) # Solicita um número inteiro\n",
    "resultado = soma_digitos(num_int) # Executa a função\n",
    "print(resultado) # Imprime o resultado da função"
   ]
  },
  {
   "cell_type": "markdown",
   "id": "c318b159",
   "metadata": {},
   "source": [
    "### Q4.\n",
    "\n",
    "- Crie a função ```inverteValor()``` que recebe um inteiro de qualquer tamanho e retorna esse valor invertido usando apenas operações aritméticas\n",
    "- Crie a função ```verificaInverso()``` que recebe o valor original e o valor invertido e retorna verdadeiro se ambos forem igualmente par ou igualmente ímpar. Retorne falso caso contrário.\n",
    "- No programa principal, peça um valor do usuário e imprima o retorno de ambas as funções.\n"
   ]
  },
  {
   "cell_type": "code",
   "execution_count": 8,
   "id": "e4e47d1d",
   "metadata": {},
   "outputs": [],
   "source": [
    "## Crie aqui as funções inverteValor() e verificaInverso()\n",
    "def inverteValor(numero):\n",
    "    # Inverte os dígitos de um número inteiro.\n",
    "    inverso = 0  # A variável inverso é inicializada com 0 para armazenar o número invertido\n",
    "    while numero != 0: # O loop while continua enquanto o numero for diferente de 0.\n",
    "        digito = numero % 10\n",
    "        inverso = inverso * 10 + digito\n",
    "        numero //= 10\n",
    "    return inverso\n",
    "\n",
    "def verificaInverso(original, invertido):\n",
    "    # Verifica se o número original e o invertido têm a mesma paridade.\n",
    "    return original % 2 == invertido % 2\n"
   ]
  },
  {
   "cell_type": "code",
   "execution_count": 9,
   "id": "a9514e56",
   "metadata": {},
   "outputs": [
    {
     "name": "stdin",
     "output_type": "stream",
     "text": [
      "Digite um número inteiro:  1234\n"
     ]
    },
    {
     "name": "stdout",
     "output_type": "stream",
     "text": [
      "O número invertido é: 4321\n",
      "O número original e o invertido são igualmente pares ou ímpares: False\n"
     ]
    }
   ],
   "source": [
    "## Escreva aqui o programa principal e execute a célula\n",
    "numero = int(input(\"Digite um número inteiro: \")) #Solicita ao usuario um numero inteiro\n",
    "invertido = inverteValor(numero) # Chama a função inverteValor\n",
    "print(f\"O número invertido é: {invertido}\") # Imprime o número invertido\n",
    "print(f\"O número original e o invertido são igualmente pares ou ímpares: {verificaInverso(numero, invertido)}\") # Imprime a paridade do número invertido com o original."
   ]
  },
  {
   "cell_type": "markdown",
   "id": "3c14f253-dddc-48f8-9625-ccc49397d88d",
   "metadata": {},
   "source": [
    "### Q5.\n",
    "\n",
    "Você está desenvolvendo um programa para auxiliar em cálculos de geometria básica. Crie as seguintes funções:\n",
    "- A função ```calcula_perimetro_triangulo()``` que recebe três inteiros correspondentes aos lados de um triângulo e retorna o perímetro do triângulo, ou seja, a soma dos seus lados.\n",
    "- A função ```calcula_perimetro_circulo()``` que recebe um inteiro referente ao raio do círculo e retorna o perímetro do círculo, dado por $2 \\pi r$. Use a constante $\\pi$ da biblioteca ```math```.\n",
    "- A função ```calcula_perimetro_retangulo()``` que possui um parâmetro obrigatório ```lado1``` e um opcional ```lado2```, ambos inteiros. Se o valor opcional não for fornecido, significa que se trata de um quadrado. Sua função deve calcular e retornar o perímetro do retângulo, ou seja, a soma de seus lados. \n",
    "    - Para o quadrado, é dado por $4 \\times lado1$\n",
    "    - Para o retângulo é dado por $2 \\times lado1 + 2 \\times lado2$\n",
    "    \n",
    "- No programa principal apresente um menu com as opções disponíveis do seu sistema e uma quarta opção ```Sair```. Solicite ao usuário a opção desejada, solicite as entradas correspondentes à opção escolhida, invoque a respective função e apresente o seu retorno. Seu programa deve retornar ao menu até que o usuário escolha a opção ```Sair```\n",
    "\n",
    "Exemplo de interação:\n",
    "```\n",
    "1 - Calcular perímetro triângulo\n",
    "2 - Calcular perímetro círculo\n",
    "3 - Calcular perímetro retângulo\n",
    "4 - Sair\n",
    "\n",
    "Opção: 1\n",
    "Digite os três lados do triângulo:\n",
    "3\n",
    "4\n",
    "5\n",
    "O perímetro é: 12\n",
    "\n",
    "1 - Calcular perímetro triângulo\n",
    "2 - Calcular perímetro círculo\n",
    "3 - Calcular perímetro retângulo\n",
    "4 - Sair\n",
    "\n",
    "Opção: 3\n",
    "Informe os dois lados do retângulo. Se for um quadrado, digite 0 para o segundo valor:\n",
    "5\n",
    "0\n",
    "O perímetro é: 20\n",
    "\n",
    "1 - Calcular perímetro triângulo\n",
    "2 - Calcular perímetro círculo\n",
    "3 - Calcular perímetro retângulo\n",
    "4 - Sair\n",
    "\n",
    "Opção: 4\n",
    "```"
   ]
  },
  {
   "cell_type": "code",
   "execution_count": 14,
   "id": "0793d328",
   "metadata": {},
   "outputs": [],
   "source": [
    "## Crie aqui as funções\n",
    "def calcula_perimetro_triangulo(x, y, z): #Função que retorna a soma dos lados do triângulo\n",
    "    return  x + y + z\n",
    "\n",
    "import math\n",
    "\n",
    "def calcula_perimetro_circulo(raio):\n",
    "  #Calcula o perímetro de um círculo através de um número inteiro representando o raio\n",
    "  perimetro = 2 * math.pi * raio\n",
    "  return perimetro\n",
    "\n",
    "def calcula_perimetro_retangulo(lado1, lado2):\n",
    "  #Calcula o perímetro de um retângulo ou quadrado.\n",
    "\n",
    "  #lado1: Comprimento de um lado do retângulo ou quadrado.\n",
    "  #lado2: Comprimento do outro lado do retângulo (opcional). Se não fornecido, assume-se que é um quadrado.\n",
    "\n",
    "  if lado2 == 0:\n",
    "    perimetro = 4 * lado1\n",
    "  else:\n",
    "    perimetro = 2 * lado1 + 2 * lado2\n",
    "  return perimetro\n",
    "\n"
   ]
  },
  {
   "cell_type": "code",
   "execution_count": 15,
   "id": "36269c71",
   "metadata": {},
   "outputs": [
    {
     "name": "stdout",
     "output_type": "stream",
     "text": [
      "1 - Calcular perímetro triângulo\n",
      "2 - Calcular perímetro círculo\n",
      "3 - Calcular perímetro retângulo\n",
      "4 - Sair\n"
     ]
    },
    {
     "name": "stdin",
     "output_type": "stream",
     "text": [
      "Opção:  1\n",
      "Informe o valor para x:  2\n",
      "Informe o valor para y:  3\n",
      "Informe o valor para z:  4\n"
     ]
    },
    {
     "name": "stdout",
     "output_type": "stream",
     "text": [
      "A soma dos lados do triângulo é 9\n",
      "1 - Calcular perímetro triângulo\n",
      "2 - Calcular perímetro círculo\n",
      "3 - Calcular perímetro retângulo\n",
      "4 - Sair\n"
     ]
    },
    {
     "name": "stdin",
     "output_type": "stream",
     "text": [
      "Opção:  2\n",
      "Digite o valor do raio:  5\n"
     ]
    },
    {
     "name": "stdout",
     "output_type": "stream",
     "text": [
      "O perímetro do círculo é 31.42\n",
      "1 - Calcular perímetro triângulo\n",
      "2 - Calcular perímetro círculo\n",
      "3 - Calcular perímetro retângulo\n",
      "4 - Sair\n"
     ]
    },
    {
     "name": "stdin",
     "output_type": "stream",
     "text": [
      "Opção:  3\n",
      "Digite o valor do primeiro lado:  3\n",
      "Digite o valor do segundo lado (digite zero para um quadrado):  0\n"
     ]
    },
    {
     "name": "stdout",
     "output_type": "stream",
     "text": [
      "O perímetro é: 12\n",
      "1 - Calcular perímetro triângulo\n",
      "2 - Calcular perímetro círculo\n",
      "3 - Calcular perímetro retângulo\n",
      "4 - Sair\n"
     ]
    },
    {
     "name": "stdin",
     "output_type": "stream",
     "text": [
      "Opção:  3\n",
      "Digite o valor do primeiro lado:  3\n",
      "Digite o valor do segundo lado (digite zero para um quadrado):  4\n"
     ]
    },
    {
     "name": "stdout",
     "output_type": "stream",
     "text": [
      "O perímetro é: 14\n",
      "1 - Calcular perímetro triângulo\n",
      "2 - Calcular perímetro círculo\n",
      "3 - Calcular perímetro retângulo\n",
      "4 - Sair\n"
     ]
    },
    {
     "name": "stdin",
     "output_type": "stream",
     "text": [
      "Opção:  4\n"
     ]
    },
    {
     "name": "stdout",
     "output_type": "stream",
     "text": [
      "Sair\n"
     ]
    }
   ],
   "source": [
    "## Escreva aqui o programa principal\n",
    "while True: #Solicita as opções para o usuário até que seja digitada a opção 4.\n",
    "  print(\"1 - Calcular perímetro triângulo\")\n",
    "  print(\"2 - Calcular perímetro círculo\")\n",
    "  print(\"3 - Calcular perímetro retângulo\")\n",
    "  print(\"4 - Sair\")\n",
    "\n",
    "  opcao = int(input(\"Opção: \"))\n",
    "\n",
    "  if opcao == 1:\n",
    "    # Programa que solicita ao usuário os valores para cada lado do triângulo.\n",
    "    x = int(input(\"Informe o valor para x: \")) \n",
    "    y = int(input(\"Informe o valor para y: \"))\n",
    "    z = int(input(\"Informe o valor para z: \"))\n",
    "    soma = calcula_perimetro_triangulo(x, y, z) #Chamada da função que soma os lados do triângulo.\n",
    "    print(f\"A soma dos lados do triângulo é {soma}\") #Imprime o resultado da soma.\n",
    "\n",
    "  elif opcao == 2:\n",
    "    #Programa que solicita ao usuario um numero inteiro para o raio e retorna o seu perímetro\n",
    "    raio = int(input(\"Digite o valor do raio: \"))\n",
    "    perimetro = calcula_perimetro_circulo(raio)\n",
    "    print(f\"O perímetro do círculo é {perimetro:.2f}\")\n",
    "      \n",
    "  elif opcao == 3:\n",
    "    # Solicita os dados ao usuário\n",
    "    lado1 = int(input(\"Digite o valor do primeiro lado: \"))\n",
    "    lado2 = int(input(\"Digite o valor do segundo lado (digite zero para um quadrado): \"))\n",
    "\n",
    "    # Chama a função e exibe o resultado\n",
    "    perimetro = calcula_perimetro_retangulo(lado1, lado2)\n",
    "    print(f\"O perímetro é: {perimetro}\")\n",
    "  elif opcao == 4:\n",
    "    print(\"Sair\")\n",
    "    break\n",
    "  else:\n",
    "    print(\"Opção inválida. Tente novamente.\")\n"
   ]
  },
  {
   "cell_type": "markdown",
   "id": "3016bcc7",
   "metadata": {},
   "source": [
    "## Funções ```lambda```"
   ]
  },
  {
   "cell_type": "markdown",
   "id": "f9cdb8dd",
   "metadata": {},
   "source": [
    "### Q6.\n",
    "\n",
    "Crie uma função lambda para verificar se um número é par ou ímpar. Em seguida, solicite ao usuário um número indefinidos de valores (até que o usuário digite 0). Para cada valor de entrada, informe se é par ou ímpar.\n",
    "\n",
    "Exemplo de interação:\n",
    "```\n",
    "Digite os valores que deseja verificar a paridade (digite 0 para finalizar a entrada de dados):\n",
    "3\n",
    "ímpar\n",
    "8\n",
    "par\n",
    "12\n",
    "par\n",
    "5\n",
    "ímpar\n",
    "7ímpar\n",
    "```"
   ]
  },
  {
   "cell_type": "code",
   "execution_count": 17,
   "id": "e3c31a78",
   "metadata": {},
   "outputs": [
    {
     "name": "stdin",
     "output_type": "stream",
     "text": [
      "Digite um número (0 para sair):  2\n"
     ]
    },
    {
     "name": "stdout",
     "output_type": "stream",
     "text": [
      "Par\n"
     ]
    },
    {
     "name": "stdin",
     "output_type": "stream",
     "text": [
      "Digite um número (0 para sair):  1\n"
     ]
    },
    {
     "name": "stdout",
     "output_type": "stream",
     "text": [
      "Ímpar\n"
     ]
    },
    {
     "name": "stdin",
     "output_type": "stream",
     "text": [
      "Digite um número (0 para sair):  4\n"
     ]
    },
    {
     "name": "stdout",
     "output_type": "stream",
     "text": [
      "Par\n"
     ]
    },
    {
     "name": "stdin",
     "output_type": "stream",
     "text": [
      "Digite um número (0 para sair):  3\n"
     ]
    },
    {
     "name": "stdout",
     "output_type": "stream",
     "text": [
      "Ímpar\n"
     ]
    },
    {
     "name": "stdin",
     "output_type": "stream",
     "text": [
      "Digite um número (0 para sair):  5\n"
     ]
    },
    {
     "name": "stdout",
     "output_type": "stream",
     "text": [
      "Ímpar\n"
     ]
    },
    {
     "name": "stdin",
     "output_type": "stream",
     "text": [
      "Digite um número (0 para sair):  6\n"
     ]
    },
    {
     "name": "stdout",
     "output_type": "stream",
     "text": [
      "Par\n"
     ]
    },
    {
     "name": "stdin",
     "output_type": "stream",
     "text": [
      "Digite um número (0 para sair):  7\n"
     ]
    },
    {
     "name": "stdout",
     "output_type": "stream",
     "text": [
      "Ímpar\n"
     ]
    },
    {
     "name": "stdin",
     "output_type": "stream",
     "text": [
      "Digite um número (0 para sair):  8\n"
     ]
    },
    {
     "name": "stdout",
     "output_type": "stream",
     "text": [
      "Par\n"
     ]
    },
    {
     "name": "stdin",
     "output_type": "stream",
     "text": [
      "Digite um número (0 para sair):  0\n"
     ]
    }
   ],
   "source": [
    "# Função lambda para verificar paridade\n",
    "num_par = lambda x: x % 2 == 0\n",
    "\n",
    "# Loop para receber e verificar números\n",
    "while True:\n",
    "    numero = int(input(\"Digite um número (0 para sair): \"))\n",
    "    if numero == 0:\n",
    "        break\n",
    "    print(\"Par\" if num_par(numero) else \"Ímpar\")"
   ]
  },
  {
   "cell_type": "markdown",
   "id": "5a87474d",
   "metadata": {},
   "source": [
    "### Q7.\n",
    "\n",
    "Escreva um programa que pergunte ao usuário qual operação ele deseja: maior ou menor.\n",
    "Em seguida leia uma quantidade indefinida de valores do usuário, até que o usuário digite o valor zero.\n",
    "Apresente ao final o maior ou menor dos valores digitados de acordo com a escolha do usuário.\n",
    "\n",
    "**Sua solução deve incluir pelo menos uma função ```lambda```** \n",
    "\n",
    "Exemplo de interação:\n",
    "```\n",
    "Opções: (1) maior ou (2) menor?\n",
    "Opção: 1\n",
    "\n",
    "Digite os valores de entrada. Digite 0 para finalizar a entrada de valores.\n",
    "4\n",
    "12\n",
    "15\n",
    "1\n",
    "0\n",
    "\n",
    "O maior valor é: 15\n",
    "```"
   ]
  },
  {
   "cell_type": "code",
   "execution_count": 19,
   "id": "ee3f68ca",
   "metadata": {},
   "outputs": [
    {
     "name": "stdin",
     "output_type": "stream",
     "text": [
      "Opções: (1) maior ou (2) menor?  2\n",
      "Digite um valor (0 para finalizar):  2\n",
      "Digite um valor (0 para finalizar):  3\n",
      "Digite um valor (0 para finalizar):  4\n",
      "Digite um valor (0 para finalizar):  5\n",
      "Digite um valor (0 para finalizar):  6\n",
      "Digite um valor (0 para finalizar):  0\n"
     ]
    },
    {
     "name": "stdout",
     "output_type": "stream",
     "text": [
      "O menor valor é: 2\n"
     ]
    }
   ],
   "source": [
    "## Escreva aqui o programa principal \n",
    "obter_maior_menor = lambda opcao, numeros: max(numeros) if opcao == 1 else min(numeros) #Determina o maior ou menor valor em uma lista de números.\n",
    "\n",
    "while True:\n",
    "    opcao = int(input(\"Opções: (1) maior ou (2) menor? \")) #Solicita o tipo de análise ao usuário\n",
    "    if opcao not in (1, 2): #Pede ao usuário que escolha apenas a opção 1 ou 2\n",
    "        print(\"Opção inválida. Por favor, digite 1 ou 2.\")\n",
    "    else:\n",
    "        break\n",
    "    numeros = []\n",
    "\n",
    "while True: #Solicita ao usuário os números que serão analisados\n",
    "    valor = int(input(\"Digite um valor (0 para finalizar): \"))\n",
    "    if valor == 0:\n",
    "        break\n",
    "    numeros.append(valor)\n",
    "\n",
    "resultado = obter_maior_menor(opcao, numeros) #Imprime o resultado da análise que o usuario pediu\n",
    "print(f\"O {'maior' if opcao == 1 else 'menor'} valor é: {resultado}\")"
   ]
  },
  {
   "cell_type": "code",
   "execution_count": null,
   "id": "0d6cf034-1320-4549-8a20-e62d71c5f21c",
   "metadata": {},
   "outputs": [],
   "source": []
  }
 ],
 "metadata": {
  "kernelspec": {
   "display_name": "Python 3 (ipykernel)",
   "language": "python",
   "name": "python3"
  },
  "language_info": {
   "codemirror_mode": {
    "name": "ipython",
    "version": 3
   },
   "file_extension": ".py",
   "mimetype": "text/x-python",
   "name": "python",
   "nbconvert_exporter": "python",
   "pygments_lexer": "ipython3",
   "version": "3.11.7"
  }
 },
 "nbformat": 4,
 "nbformat_minor": 5
}
