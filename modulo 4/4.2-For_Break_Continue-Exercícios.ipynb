{
 "cells": [
  {
   "cell_type": "markdown",
   "id": "29e89030",
   "metadata": {},
   "source": [
    "# Módulo 4 - Repetições\n",
    "\n",
    "## Aulas 4.2 - Comando ```for``` e 4.3 Break e Continue"
   ]
  },
  {
   "cell_type": "markdown",
   "id": "a45b42df",
   "metadata": {},
   "source": [
    "### Q1.\n",
    "\n",
    "Crie um programa em Python que utilize o comando for para imprimir os números de 10 a 1, em ordem decrescente."
   ]
  },
  {
   "cell_type": "code",
   "execution_count": 2,
   "id": "55a75b3d",
   "metadata": {},
   "outputs": [
    {
     "name": "stdout",
     "output_type": "stream",
     "text": [
      "10\n",
      "9\n",
      "8\n",
      "7\n",
      "6\n",
      "5\n",
      "4\n",
      "3\n",
      "2\n",
      "1\n"
     ]
    }
   ],
   "source": [
    "## Escreva e execute seu código aqui\n",
    "for numero in range(10, 0, -1):\n",
    "    print(numero)\n"
   ]
  },
  {
   "cell_type": "markdown",
   "id": "94b47c36",
   "metadata": {},
   "source": [
    "### Q2.\n",
    "\n",
    "Dado um número inteiro positivo informado pelo usuário, crie um programa em Python que utilize o comando for para calcular e exibir a soma dos números de 1 até o número informado. Ou seja, $1 + 2 + 3 + ... + n$\n",
    "\n",
    "Exemplo de interação:\n",
    "```\n",
    "Digite um número: 5\n",
    "A soma dos números de 1 a 5 é 15\n",
    "```\n"
   ]
  },
  {
   "cell_type": "code",
   "execution_count": 6,
   "id": "45b71596",
   "metadata": {},
   "outputs": [
    {
     "name": "stdin",
     "output_type": "stream",
     "text": [
      "Informe um número:  10\n"
     ]
    },
    {
     "name": "stdout",
     "output_type": "stream",
     "text": [
      "55\n"
     ]
    }
   ],
   "source": [
    "## Escreva e execute seu código aqui\n",
    "numero = int(input('Informe um número: '))\n",
    "soma = 0\n",
    "\n",
    "for n in range(1, numero+1):\n",
    "    soma += n\n",
    "\n",
    "print(soma)\n"
   ]
  },
  {
   "cell_type": "markdown",
   "id": "0411d170",
   "metadata": {},
   "source": [
    "### Q3.\n",
    "\n",
    "Escreva um programa que lê 10 valores inteiros positivos do usuário e ao final imprime a média dos valores digitados com duas casas decimais.\n",
    "\n",
    "```\n",
    "Digite 10 números positivos:\n",
    "3\n",
    "2\n",
    "12\n",
    "14\n",
    "20\n",
    "42\n",
    "19\n",
    "0\n",
    "8\n",
    "1\n",
    "A média dos valores digitados é 12.10\n",
    "```"
   ]
  },
  {
   "cell_type": "code",
   "execution_count": 17,
   "id": "3f72f358",
   "metadata": {},
   "outputs": [
    {
     "name": "stdin",
     "output_type": "stream",
     "text": [
      "Digite um número positivo:  12\n",
      "Digite um número positivo:  345\n",
      "Digite um número positivo:  21\n",
      "Digite um número positivo:  24\n",
      "Digite um número positivo:  56\n",
      "Digite um número positivo:  2\n",
      "Digite um número positivo:  2\n",
      "Digite um número positivo:  4\n",
      "Digite um número positivo:  5\n",
      "Digite um número positivo:  6\n"
     ]
    },
    {
     "name": "stdout",
     "output_type": "stream",
     "text": [
      "A média dos valores digitados é 47.70\n"
     ]
    }
   ],
   "source": [
    "## Escreva e execute seu código aqui\n",
    "soma = 0\n",
    "\n",
    "for n in range(10):\n",
    "    numero = int(input('Digite um número positivo: '))\n",
    "    soma += numero\n",
    "\n",
    "print(f'A média dos valores digitados é {soma/10:.2f}')\n"
   ]
  },
  {
   "cell_type": "markdown",
   "id": "d62e27ff",
   "metadata": {},
   "source": [
    "### Q4.\n",
    "\n",
    "Você vai criar um sistema que registra os resultados dos jogos do Atlético MG ao longo de um campeonato. Seu sistema vai receber os resultados de todos os jogos do Galo, e deve calcular a pontuação do time sabendo que vitórias valem 3 pontos, empates 1 ponto e derrotas 0 pontos.\n",
    "\n",
    "Entrada: <br>\n",
    "A primeira linha de entrada é um inteiro N com a quantidade jogos do galo. Para cada jogo você deve ler 2 inteiros, o primeiro com a quantidade de gols do galo e o segundo com a quantidade de gols do time oponente. \n",
    "\n",
    "Saída: <br>\n",
    "Apresente a soma de vitórias, empates e derrotas do galo, junto com o cálculo da pontuação total.\n",
    "\n",
    "Ex:\n",
    "```\n",
    "Entrada:\n",
    "4\n",
    "2\n",
    "0\n",
    "1\n",
    "1\n",
    "0\n",
    "3\n",
    "1\n",
    "0\n",
    "\n",
    "Saída:\n",
    "Vitórias: 2\n",
    "Empates: 1\n",
    "Derrotas: 1\n",
    "Pontuação: 7\n",
    "\n",
    "```\n",
    "\n",
    "\n"
   ]
  },
  {
   "cell_type": "code",
   "execution_count": 20,
   "id": "d3fdfc2a",
   "metadata": {},
   "outputs": [
    {
     "name": "stdin",
     "output_type": "stream",
     "text": [
      "Informe o número de jogos do Atlético MG analisados:  6\n",
      "Informe os gols marcados pelo Atlético MG:  1\n",
      "Informe os gols sofridos pelo Atlético MG:  1\n",
      "Informe os gols marcados pelo Atlético MG:  2\n",
      "Informe os gols sofridos pelo Atlético MG:  1\n",
      "Informe os gols marcados pelo Atlético MG:  1\n",
      "Informe os gols sofridos pelo Atlético MG:  3\n",
      "Informe os gols marcados pelo Atlético MG:  2\n",
      "Informe os gols sofridos pelo Atlético MG:  2\n",
      "Informe os gols marcados pelo Atlético MG:  4\n",
      "Informe os gols sofridos pelo Atlético MG:  3\n",
      "Informe os gols marcados pelo Atlético MG:  1\n",
      "Informe os gols sofridos pelo Atlético MG:  2\n"
     ]
    },
    {
     "name": "stdout",
     "output_type": "stream",
     "text": [
      "Vitórias:  2\n",
      "Empates:  2\n",
      "Derrotas:  2\n",
      "Pontuação:  8\n"
     ]
    }
   ],
   "source": [
    "## Escreva e execute seu código aqui\n",
    "quant_jogos = int(input('Informe o número de jogos do Atlético MG analisados: '))\n",
    "\n",
    "\n",
    "vitoria = 0\n",
    "empate = 0\n",
    "derrota = 0\n",
    "pontuacao = 0\n",
    "\n",
    "for n in range(quant_jogos):\n",
    "    gols_pro = int(input('Informe os gols marcados pelo Atlético MG: '))\n",
    "    gols_contra = int(input('Informe os gols sofridos pelo Atlético MG: '))\n",
    "    \n",
    "    if gols_pro > gols_contra:\n",
    "        vitoria += 1\n",
    "        pontuacao += 3\n",
    "    elif gols_pro == gols_contra:\n",
    "        empate += 1\n",
    "        pontuacao += 1\n",
    "    elif gols_pro < gols_contra:\n",
    "        derrota += 1\n",
    "\n",
    "print('Vitórias: ', vitoria)\n",
    "print('Empates: ', empate)\n",
    "print('Derrotas: ', derrota)\n",
    "print('Pontuação: ', pontuacao)\n"
   ]
  },
  {
   "cell_type": "markdown",
   "id": "fc98604d",
   "metadata": {},
   "source": [
    "### Q5.\n",
    "\n",
    "Faça um programa que lê dois inteiros N e M, e imprime na tela um campo de batalha naval. O tabuleiro deve possuir N linhas e M colunas. A primeira linha é composta por um espaço em branco e o cabeçalho das colunas, ou seja, valores de 1 a M. As N linhas seguintes iniciam com o cabeçalho da linha, ou seja, seu número, seguido de M caracteres \"/\" (barra) indicando uma possível posição jogável. \n",
    "\n",
    "```\n",
    "Entrada:\n",
    "5\n",
    "4\n",
    "\n",
    "Saída:\n",
    "  1 2 3 4 \n",
    "1 / / / / \n",
    "2 / / / / \n",
    "3 / / / / \n",
    "4 / / / / \n",
    "5 / / / / \n",
    "```\n",
    "\n",
    "Para esse exercício, precisamos lembrar que o comando print implicitamente adiciona uma quebra de linha ao final da impressão. Podemos interferir no final da impressão adicionando mais uma entrada ao print. No exemplo, finalizamos cada linha com um espaço em branco:\n",
    "```python\n",
    "print(\"Texto qualquer\", end = \" \")\n",
    "```"
   ]
  },
  {
   "cell_type": "code",
   "execution_count": 32,
   "id": "a60ef197",
   "metadata": {},
   "outputs": [
    {
     "name": "stdin",
     "output_type": "stream",
     "text": [
      "Digite o número de linhas:  7\n",
      "Digite o número de colunas:  7\n"
     ]
    },
    {
     "name": "stdout",
     "output_type": "stream",
     "text": [
      "  1 2 3 4 5 6 7 \n",
      "1 / / / / / / / \n",
      "2 / / / / / / / \n",
      "3 / / / / / / / \n",
      "4 / / / / / / / \n",
      "5 / / / / / / / \n",
      "6 / / / / / / / \n",
      "7 / / / / / / / \n"
     ]
    }
   ],
   "source": [
    "## Escreva e execute seu código aqui\n",
    "linhas_n = int(input('Digite o número de linhas: ')) # Entrada informando o número de linhas e colunas do jogo\n",
    "colunas_m = int(input('Digite o número de colunas: '))\n",
    "\n",
    "# Esta saída refere-se ao cabeçalho do jogo\n",
    "print(' ', end = ' ') \n",
    "for n in range(1, colunas_m + 1): \n",
    "    print(n, end = ' ')\n",
    "print() #Insere uma nova linha depois do cabeçalho\n",
    "\n",
    "# Esta saída refere-se ao campo do jogo\n",
    "for i in range(1, linhas_n + 1):\n",
    "    print(i, end = ' ')\n",
    "    for n in range(1, colunas_m + 1):\n",
    "        print('/', end = ' ')\n",
    "    print() #Insere nova linha no campo do jogo\n"
   ]
  },
  {
   "cell_type": "markdown",
   "id": "4654dc0b",
   "metadata": {},
   "source": [
    "---\n",
    "## Break e Continue"
   ]
  },
  {
   "cell_type": "markdown",
   "id": "24fe9d85",
   "metadata": {},
   "source": [
    "### Q6.\n",
    "\n",
    "Escreva um programa que lê uma quantidade indefinida de valores e informa o maior e o menor valor digitados. A leitura é encerrada quando o usuário digitar o valor 0 (zero).\n",
    "\n",
    "```\n",
    "Entrada:\n",
    "12\n",
    "-1\n",
    "29\n",
    "11\n",
    "-5\n",
    "0\n",
    "\n",
    "Saída:\n",
    "Maior: 29\n",
    "Menor: -5\n",
    "```"
   ]
  },
  {
   "cell_type": "code",
   "execution_count": 36,
   "id": "ee1c466a",
   "metadata": {},
   "outputs": [
    {
     "name": "stdin",
     "output_type": "stream",
     "text": [
      "Digite um valor (0 para encerrar):  3\n",
      "Digite um valor (0 para encerrar):  5\n",
      "Digite um valor (0 para encerrar):  2\n",
      "Digite um valor (0 para encerrar):  78\n",
      "Digite um valor (0 para encerrar):  53\n",
      "Digite um valor (0 para encerrar):  0\n"
     ]
    },
    {
     "name": "stdout",
     "output_type": "stream",
     "text": [
      "Maior valor: 78\n",
      "Menor valor: 2\n"
     ]
    }
   ],
   "source": [
    "## Escreva e execute seu código aqui\n",
    "maior = None\n",
    "menor = None\n",
    "\n",
    "while True:\n",
    "    valor = int(input(\"Digite um valor (0 para encerrar): \"))\n",
    "    \n",
    "    if valor == 0:\n",
    "        break\n",
    "    \n",
    "    if maior is None or valor > maior:\n",
    "        maior = valor\n",
    "    if menor is None or valor < menor:\n",
    "        menor = valor\n",
    "\n",
    "if valor == 0:\n",
    "    print(f\"Maior valor: {maior}\")\n",
    "    print(f\"Menor valor: {menor}\")\n"
   ]
  },
  {
   "cell_type": "markdown",
   "id": "30d486f7",
   "metadata": {},
   "source": [
    "### Q7.\n",
    "\n",
    "Escreva um programa que lê uma quantidade indefinida de valores e informa o **produto** dos valores positivos digitados. A leitura é encerrada quando o usuário digitar o valor 0 (zero).\n",
    "\n",
    "```\n",
    "Entrada:\n",
    "2\n",
    "-1\n",
    "1\n",
    "3\n",
    "-5\n",
    "0\n",
    "\n",
    "Saída:\n",
    "Produto: 6\n",
    "```"
   ]
  },
  {
   "cell_type": "code",
   "execution_count": 38,
   "id": "2f1ac324",
   "metadata": {},
   "outputs": [
    {
     "name": "stdin",
     "output_type": "stream",
     "text": [
      "Digite um valor (0 para encerrar):  2\n",
      "Digite um valor (0 para encerrar):  -1\n",
      "Digite um valor (0 para encerrar):  1\n",
      "Digite um valor (0 para encerrar):  3\n",
      "Digite um valor (0 para encerrar):  -5\n",
      "Digite um valor (0 para encerrar):  0\n"
     ]
    },
    {
     "name": "stdout",
     "output_type": "stream",
     "text": [
      "Produto: 6\n"
     ]
    }
   ],
   "source": [
    "## Escreva e execute seu código aqui\n",
    "produto = 1\n",
    "num_positivo = False\n",
    "\n",
    "while True:\n",
    "    valor = int(input(\"Digite um valor (0 para encerrar): \"))\n",
    "    \n",
    "    if valor == 0:\n",
    "        break\n",
    "    if valor < 0:\n",
    "        continue\n",
    "    \n",
    "    if valor > 0:\n",
    "        produto *= valor\n",
    "        num_positivo = True\n",
    "\n",
    "if num_positivo:\n",
    "    print(f\"Produto: {produto}\")\n"
   ]
  },
  {
   "cell_type": "markdown",
   "id": "e932f3cf",
   "metadata": {},
   "source": [
    "### Q8.\n",
    "\n",
    "Vamos fazer uma calculadora que aceita expressões aritméticas de qualquer tamanho até que o usuário digite a palavra \"Fim\". Sua calculadora executa apenas as operações \"+\", \"-\".\n",
    "\n",
    "```\n",
    "Entrada:\n",
    "5\n",
    "+\n",
    "8\n",
    "-\n",
    "3\n",
    "+\n",
    "2\n",
    "Fim\n",
    "\n",
    "Saída:\n",
    "12\n",
    "```"
   ]
  },
  {
   "cell_type": "code",
   "execution_count": 57,
   "id": "e835d870",
   "metadata": {},
   "outputs": [
    {
     "name": "stdin",
     "output_type": "stream",
     "text": [
      "Digite um número ou Fim para encerrar:  5\n",
      "Digite um operador (+ ou -), ou Fim para encerrar:  +\n",
      "Digite um número ou Fim para encerrar:  8\n",
      "Digite um operador (+ ou -), ou Fim para encerrar:  -\n",
      "Digite um número ou Fim para encerrar:  3\n",
      "Digite um operador (+ ou -), ou Fim para encerrar:  +\n",
      "Digite um número ou Fim para encerrar:  2\n",
      "Digite um operador (+ ou -), ou Fim para encerrar:  Fim\n"
     ]
    },
    {
     "name": "stdout",
     "output_type": "stream",
     "text": [
      "Resultado: 12\n"
     ]
    }
   ],
   "source": [
    "## Escreva e execute seu código aqui\n",
    "resultado = 0\n",
    "operador = '+'\n",
    "\n",
    "while True:\n",
    "    entrada = input(\"Digite um número ou Fim para encerrar: \")\n",
    "    \n",
    "    if entrada == \"Fim\":\n",
    "        break\n",
    "    \n",
    "    if operador == \"+\":\n",
    "        resultado += int(entrada)\n",
    "    elif operador == \"-\":\n",
    "        resultado -= int(entrada)\n",
    "\n",
    "    operador = input(\"Digite um operador (+ ou -), ou Fim para encerrar: \")\n",
    "    if operador == 'Fim':\n",
    "        break\n",
    "\n",
    "print(f\"Resultado: {resultado}\")\n"
   ]
  },
  {
   "cell_type": "code",
   "execution_count": null,
   "id": "66c7fa01-fd75-4c63-bd1a-05f19d5070b4",
   "metadata": {},
   "outputs": [],
   "source": []
  }
 ],
 "metadata": {
  "kernelspec": {
   "display_name": "Python 3 (ipykernel)",
   "language": "python",
   "name": "python3"
  },
  "language_info": {
   "codemirror_mode": {
    "name": "ipython",
    "version": 3
   },
   "file_extension": ".py",
   "mimetype": "text/x-python",
   "name": "python",
   "nbconvert_exporter": "python",
   "pygments_lexer": "ipython3",
   "version": "3.11.7"
  }
 },
 "nbformat": 4,
 "nbformat_minor": 5
}
