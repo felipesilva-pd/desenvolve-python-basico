{
 "cells": [
  {
   "cell_type": "markdown",
   "id": "559687a1",
   "metadata": {},
   "source": [
    "# Módulo 3 - Condicionais\n",
    "\n",
    "## 3.5 - Decisões Múltiplas"
   ]
  },
  {
   "cell_type": "markdown",
   "id": "42f823b3",
   "metadata": {},
   "source": [
    "### Q1.\n",
    "\n",
    "Vamos fazer uma calculadora! Escreva um programa que solicita 3 entradas: o primeiro operando (float), o operador (caracter) e o segundo operando (float). Seu programa deve imprimir o resultado da operação solicitada, entre soma (+), subtração (-), divisão (/), multiplicação (\\*) ou potência (\\*\\*). Seu programa também deve imprimir uma mensagem de erro se a operação solicitada não estiver dentre as opções disponíveis.\n",
    "\n",
    "Seguem alguns exemplos de interação com seu código no terminal. \n",
    "\n",
    "\n",
    "```\n",
    "Digite o primeiro operando: 5.2\n",
    "Digite o operador (+, -, /, *, **): *\n",
    "Digite o segundo operando` 3\n",
    "Resultado: 5.2 * 3.0 = 15.6\n",
    "```\n",
    "\n",
    "```\n",
    "Digite o primeiro operando: 8\n",
    "Digite o operador (+, -, /, *, **): **\n",
    "Digite o segundo operando: 2\n",
    "Resultado: 8.0 * 2.0 = 64.0\n",
    "```\n",
    "\n",
    "```\n",
    "Digite o primeiro operando: 7\n",
    "Digite o operador (+, -, /, *, **): %\n",
    "Digite o segundo operando: 3.4\n",
    "Erro! Operação inválida. \n",
    "```\n",
    "\n",
    "```\n",
    "Digite o primeiro operando: 10\n",
    "Digite o operador (+, -, /, *, **): /\n",
    "Digite o segundo operando: 2.5\n",
    "Resultado: 10.0 / 2.5 = 4.0\n",
    "```\n",
    "\n"
   ]
  },
  {
   "cell_type": "code",
   "execution_count": 10,
   "id": "c5b8cd4d",
   "metadata": {},
   "outputs": [
    {
     "name": "stdin",
     "output_type": "stream",
     "text": [
      "Digite o primeiro operando:  5\n",
      "Digite o operador (+, -, /, *, **):  *\n",
      "Digite o segundo operando:  3\n"
     ]
    },
    {
     "name": "stdout",
     "output_type": "stream",
     "text": [
      "O resultado é  15.0\n"
     ]
    }
   ],
   "source": [
    "## Escreva e execute seu código aqui\n",
    "# Entrada dos valores que serão calculados e seu operador\n",
    "operando1 = float(input('Digite o primeiro operando: '))\n",
    "operador = input('Digite o operador (+, -, /, *, **): ')\n",
    "operando2 = float(input('Digite o segundo operando: '))\n",
    "\n",
    "# Calculo de acordo com cada operador\n",
    "if operador == '+':\n",
    "    resultado = operando1 + operando2\n",
    "    print('O resultado é ',resultado)\n",
    "elif operador == '-':\n",
    "    resultado = operando1 - operando2\n",
    "    print('O resultado é ',resultado)\n",
    "elif operador == '/':\n",
    "    resultado = operando1 / operando2\n",
    "    print('O resultado é ',resultado)\n",
    "elif operador == '*':\n",
    "    resultado = operando1 * operando2\n",
    "    print('O resultado é ',resultado)\n",
    "elif operador == '**' :\n",
    "    resultado = operando1 ** operando2\n",
    "    print('O resultado é ',resultado)"
   ]
  },
  {
   "cell_type": "markdown",
   "id": "d135df39",
   "metadata": {},
   "source": [
    "### Q2.\n",
    "\n",
    "Escreva um programa que leia os comprimentos dos 3 lados de um triângulo e diga se o triângulo é equilátero, isóceles ou escaleno. Regras:\n",
    "- Isóceles: Quaisquer dois lados com o mesmo comprimento\n",
    "- Equilátero: Os três lados tem o mesmo comprimento\n",
    "- Escaleno: Três lados de comprimento diferente \n",
    "\n",
    "Note que a ordem das condições importa! Seguem alguns exemplos de interação com seu código no terminal. \n",
    "\n",
    "```\n",
    "Digite o comprimento do lado 1: 4\n",
    "Digite o comprimento do lado 2: 4\n",
    "Digite o comprimento do lado 3: 6\n",
    "Triângulo: Isóceles\n",
    "```\n",
    "\n",
    "```\n",
    "Digite o comprimento do lado 1: 5\n",
    "Digite o comprimento do lado 2: 5\n",
    "Digite o comprimento do lado 3: 5\n",
    "Triângulo: Equilátero\n",
    "```\n",
    "\n",
    "```\n",
    "Digite o comprimento do lado 1: 7\n",
    "Digite o comprimento do lado 2: 4\n",
    "Digite o comprimento do lado 3: 9\n",
    "Triângulo: Escaleno\n",
    "```\n",
    "\n"
   ]
  },
  {
   "cell_type": "code",
   "execution_count": 5,
   "id": "cfcf9a80",
   "metadata": {},
   "outputs": [
    {
     "name": "stdin",
     "output_type": "stream",
     "text": [
      "Digite o comprimento do lado 1:  1\n",
      "Digite o comprimento do lado 2:  2\n",
      "Digite o comprimento do lado 3:  3\n"
     ]
    },
    {
     "name": "stdout",
     "output_type": "stream",
     "text": [
      "Triângulo Escaleno\n"
     ]
    }
   ],
   "source": [
    "## Escreva e execute seu código aqui\n",
    "# Entrada referente aos tamanhos dos lados do triângulo analisado\n",
    "lado1 = float(input('Digite o comprimento do lado 1: '))\n",
    "lado2 = float(input('Digite o comprimento do lado 2: '))\n",
    "lado3 = float(input('Digite o comprimento do lado 3: '))\n",
    "\n",
    "# Classificação do triângulo, de acordo com as regras\n",
    "\n",
    "if (lado1 == lado2 == lado3):\n",
    "    print('Triângulo Equilátero')\n",
    "elif ((lado1 == lado2) or (lado2 == lado3) or (lado1 == lado3)):\n",
    "    print('Triângulo Isóceles')\n",
    "else :\n",
    "    print('Triângulo Escaleno')\n"
   ]
  },
  {
   "cell_type": "markdown",
   "id": "ed3405fb",
   "metadata": {},
   "source": [
    "### Q3.\n",
    "\n",
    "Você está desenvolvendo um sistema de avaliação de desempenho para um jogo. Escreva um programa em Python que avalia a pontuação do jogador em uma missão e atribui uma classificação com base nas seguintes condições:\n",
    "\n",
    "- Se a pontuação for menor que 70, atribua a classificação \"Insatisfatório\".\n",
    "- Se a pontuação for maior ou igual a 70, atribua a classificação \"Regular\".\n",
    "- Se a pontuação for maior ou igual a 80, atribua a classificação \"Bom\".\n",
    "- Se a pontuação for maior ou igual a 90, atribua a classificação \"Excelente\".\n",
    "\n",
    "Escreva um programa que solicita ao usuário a pontuação e imprime a classificação correspondente."
   ]
  },
  {
   "cell_type": "code",
   "execution_count": 79,
   "id": "a7a842ae",
   "metadata": {},
   "outputs": [
    {
     "name": "stdin",
     "output_type": "stream",
     "text": [
      "Digite a pontuação do atleta:  80\n"
     ]
    },
    {
     "name": "stdout",
     "output_type": "stream",
     "text": [
      "Bom\n"
     ]
    }
   ],
   "source": [
    "## Escreva e execute seu código aqui\n",
    "# Entrada da pontuação do atleta\n",
    "pontuacao = int(input('Digite a pontuação do atleta: '))\n",
    "\n",
    "# Verificando qual é a classificação do atleta\n",
    "if pontuacao < 70:\n",
    "    print('Insatisfatório')\n",
    "elif pontuacao >= 70 and pontuacao < 80:\n",
    "    print('Regular')\n",
    "elif pontuacao >= 80 and pontuacao < 90:\n",
    "    print('Bom')\n",
    "else :\n",
    "    print('Excelente')\n"
   ]
  },
  {
   "cell_type": "markdown",
   "id": "6cafaa50",
   "metadata": {},
   "source": [
    "### Q4.\n",
    "\n",
    "Você está implementando um sistema de desconto em uma loja online. Escreva um programa em Python que calcula o desconto com base no valor total da compra e atribui diferentes níveis de desconto de acordo com as seguintes condições:\n",
    "\n",
    "- Se o valor total da compra for menor que R\\$ 50, não há desconto.\n",
    "- Se o valor total da compra for maior ou igual a R\\$ 50, atribua um desconto de 10%.\n",
    "- Se o valor total da compra for maior ou igual a R\\$ 100, atribua um desconto de 20%.\n",
    "\n",
    "\n",
    "Seguem alguns exemplos de interação com seu código no terminal. Preste atenção na formatação esperada para as saídas.\n",
    "\n",
    "```\n",
    "Digite o valor total da compra: 120\n",
    "Desconto aplicado: 20.0%\n",
    "Valor final com desconto: R$96.00\n",
    "```\n",
    "\n",
    "```\n",
    "Digite o valor total da compra: 65\n",
    "Desconto aplicado: 10.0%\n",
    "Valor final com desconto: R$58.50\n",
    "```\n",
    "\n",
    "```\n",
    "Digite o valor total da compra: 40\n",
    "Desconto aplicado: 0.0%\n",
    "Valor final com desconto: R$40.00\n",
    "```\n",
    "\n",
    "\n"
   ]
  },
  {
   "cell_type": "code",
   "execution_count": 76,
   "id": "3b1b1929",
   "metadata": {},
   "outputs": [
    {
     "name": "stdin",
     "output_type": "stream",
     "text": [
      "Digite o valor da compra:  60\n"
     ]
    },
    {
     "name": "stdout",
     "output_type": "stream",
     "text": [
      "Desconto aplicado: 10.0%\n",
      "Valor final com desconto: R$54.00\n"
     ]
    }
   ],
   "source": [
    "## Escreva e execute seu código aqui\n",
    "# Entrada do valor da compra\n",
    "valor_compra = float(input('Digite o valor da compra: '))\n",
    "# Definindo o percentual dos descontos\n",
    "desc1 = 10\n",
    "desc2 = 20\n",
    "\n",
    "# Verificando se a compra haverá aplicação de desconto ou não\n",
    "if valor_compra < 50:\n",
    "    print('Desconto aplicado: 0.0%')\n",
    "    print(f'Valor final com desconto: R${valor_compra:.2f}')\n",
    "elif valor_compra >= 50 and valor_compra < 100 :\n",
    "    print(f'Desconto aplicado: {desc1:.1f}%')\n",
    "    print(f'Valor final com desconto: R${valor_compra - (valor_compra * (desc1  / 100)):.2f}')\n",
    "else :\n",
    "    print(f'Desconto aplicado: {desc2:.1f}%')\n",
    "    print(f'Valor final com desconto: R${valor_compra - (valor_compra * (desc2  / 100)):.2f}')\n"
   ]
  },
  {
   "cell_type": "markdown",
   "id": "dc5db6d7",
   "metadata": {},
   "source": [
    "### Q5.\n",
    "\n",
    "Você está projetando um sistema de autenticação baseado na análise da íris (parte colorida do olho). Ao acionado, o sistema coleta e retorna 3 valores inteiros referentes a atributos da íris visível. Mas o sistema não é perfeito, tendo uma margem de erro do sensor de +/- $5$. \n",
    "\n",
    "O código abaixo tem os atributos dos 4 usuários cadastrados no sistema. Você deve completar om código, pedindo ao usuário para inserir uma nova leitura de padrão de íris. O programa deve comparar o padrão inserido com os padrões cadastrados no banco de dados. Se o padrão estiver dentro da tolerância estabelecida, o usuário é autenticado com sucesso. Caso contrário, a autenticação falha.\n",
    "\n",
    "**Dica:** A função do python ```abs()``` retorna o valor absoluto de um elemento. Ex: \n",
    "```\n",
    ">>> print(abs(987-982))\n",
    "5\n",
    ">>> print(abs(987-992))\n",
    "5\n",
    "```\n",
    "\n",
    "Seguem alguns exemplos de interação com seu código no terminal.\n",
    "\n",
    "```\n",
    "Insira o padrão de íris para autenticação.\n",
    "Atributo 1: 111\n",
    "Atributo 2: 222\n",
    "Atributo 3: 333\n",
    "Autenticação bem-sucedida! \n",
    "Usuário: 3\n",
    "```\n",
    "\n",
    "```\n",
    "Insira o padrão de íris para autenticação.\n",
    "Atributo 1: 111\n",
    "Atributo 2: 200\n",
    "Atributo 3: 333\n",
    "Autenticação falhou! \n",
    "```\n",
    "\n",
    "```\n",
    "Insira o padrão de íris para autenticação.\n",
    "Atributo 1: 982\n",
    "Atributo 2: 653\n",
    "Atributo 3: 324\n",
    "Autenticação bem-sucedida! \n",
    "Usuário: 2\n",
    "```"
   ]
  },
  {
   "cell_type": "code",
   "execution_count": 11,
   "id": "b90304eb",
   "metadata": {},
   "outputs": [
    {
     "name": "stdout",
     "output_type": "stream",
     "text": [
      "Insira o padrão de íris para autenticação.\n"
     ]
    },
    {
     "name": "stdin",
     "output_type": "stream",
     "text": [
      "Atributo 1:  123\n",
      "Atributo 2:  456\n",
      "Atributo 3:  788\n"
     ]
    },
    {
     "name": "stdout",
     "output_type": "stream",
     "text": [
      "Autenticação bem sucedida!\n",
      "Usuário: 1\n"
     ]
    }
   ],
   "source": [
    "## Não altere os atributos definidos a seguir\n",
    "iris1_a1, iris1_a2, iris1_a3 = 123, 456, 789\n",
    "iris2_a1, iris2_a2, iris2_a3 = 987, 654, 321\n",
    "iris3_a1, iris3_a2, iris3_a3 = 111, 222, 333\n",
    "iris4_a1, iris4_a2, iris4_a3 = 444, 555, 666\n",
    "\n",
    "## Escreva e execute seu código aqui\n",
    "# Entrada dos dados do usuário\n",
    "print('Insira o padrão de íris para autenticação.')\n",
    "atributo1 = int(input('Atributo 1: '))\n",
    "atributo2 = int(input('Atributo 2: '))\n",
    "atributo3 = int(input('Atributo 3: '))\n",
    "margem_erro = 5 # Definindo a margem de erro\n",
    "\n",
    "# Verificação do usuário 1\n",
    "if (abs(iris1_a1 - atributo1) <= margem_erro and\n",
    "    abs(iris1_a2 - atributo2) <= margem_erro and\n",
    "    abs(iris1_a3 - atributo3) <= margem_erro):\n",
    "           print('Autenticação bem sucedida!')\n",
    "           print('Usuário: 1')\n",
    "\n",
    "# Verificação do usuário 2\n",
    "elif (abs(iris2_a1 - atributo1) <= margem_erro and\n",
    "    abs(iris2_a2 - atributo2) <= margem_erro and\n",
    "    abs(iris2_a3 - atributo3) <= margem_erro):\n",
    "           print('Autenticação bem sucedida!')\n",
    "           print('Usuário: 2')\n",
    "\n",
    "# Verificação do usuário 3\n",
    "elif (abs(iris3_a1 - atributo1) <= margem_erro and\n",
    "    abs(iris3_a2 - atributo2) <= margem_erro and\n",
    "    abs(iris3_a3 - atributo3) <= margem_erro):\n",
    "           print('Autenticação bem sucedida!')\n",
    "           print('Usuário: 3')\n",
    "\n",
    "# Verificação do usuário 4\n",
    "elif (abs(iris4_a1 - atributo1) <= margem_erro and\n",
    "    abs(iris4_a2 - atributo2) <= margem_erro and\n",
    "    abs(iris4_a3 - atributo3) <= margem_erro):\n",
    "           print('Autenticação bem sucedida!')\n",
    "           print('Usuário: 4')\n",
    "else :\n",
    "    print('Autenticação falhou!')\n",
    "    \n",
    "\n"
   ]
  },
  {
   "cell_type": "code",
   "execution_count": null,
   "id": "cfbe0ef7-5689-4410-99bd-4552ec0da801",
   "metadata": {},
   "outputs": [],
   "source": []
  }
 ],
 "metadata": {
  "kernelspec": {
   "display_name": "Python 3 (ipykernel)",
   "language": "python",
   "name": "python3"
  },
  "language_info": {
   "codemirror_mode": {
    "name": "ipython",
    "version": 3
   },
   "file_extension": ".py",
   "mimetype": "text/x-python",
   "name": "python",
   "nbconvert_exporter": "python",
   "pygments_lexer": "ipython3",
   "version": "3.11.7"
  }
 },
 "nbformat": 4,
 "nbformat_minor": 5
}
